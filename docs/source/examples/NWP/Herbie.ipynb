{
 "cells": [
  {
   "cell_type": "code",
   "execution_count": 1,
   "id": "9b39af99-1bb7-4fff-be94-85de8dcb7fb8",
   "metadata": {},
   "outputs": [],
   "source": [
    "#!conda install herbie -c conda-forge"
   ]
  },
  {
   "cell_type": "code",
   "execution_count": 2,
   "id": "descending-disease",
   "metadata": {},
   "outputs": [
    {
     "data": {
      "application/javascript": [
       "\n",
       "            setTimeout(function() {\n",
       "                var nbb_cell_id = 2;\n",
       "                var nbb_unformatted_code = \"# linting\\n%load_ext nb_black\\n%load_ext lab_black\";\n",
       "                var nbb_formatted_code = \"# linting\\n%load_ext nb_black\\n%load_ext lab_black\";\n",
       "                var nbb_cells = Jupyter.notebook.get_cells();\n",
       "                for (var i = 0; i < nbb_cells.length; ++i) {\n",
       "                    if (nbb_cells[i].input_prompt_number == nbb_cell_id) {\n",
       "                        if (nbb_cells[i].get_text() == nbb_unformatted_code) {\n",
       "                             nbb_cells[i].set_text(nbb_formatted_code);\n",
       "                        }\n",
       "                        break;\n",
       "                    }\n",
       "                }\n",
       "            }, 500);\n",
       "            "
      ],
      "text/plain": [
       "<IPython.core.display.Javascript object>"
      ]
     },
     "metadata": {},
     "output_type": "display_data"
    }
   ],
   "source": [
    "# linting\n",
    "%load_ext nb_black\n",
    "%load_ext lab_black"
   ]
  },
  {
   "cell_type": "markdown",
   "id": "smart-knock",
   "metadata": {},
   "source": [
    "# Skill from HRRR downloaded with `herbie`\n",
    "\n",
    "[`herbie`](https://herbie.readthedocs.io/en/latest/user_guide/_tutorial_notebooks/fast.html) downloads forecasts data easily. The resulting datasets is out-of-the-box compatible with `climpred`."
   ]
  },
  {
   "cell_type": "code",
   "execution_count": 3,
   "id": "insured-feeding",
   "metadata": {},
   "outputs": [
    {
     "data": {
      "application/javascript": [
       "\n",
       "            setTimeout(function() {\n",
       "                var nbb_cell_id = 3;\n",
       "                var nbb_unformatted_code = \"import xarray as xr\\nimport numpy as np\\n\\nimport climpred  # forecast verification\";\n",
       "                var nbb_formatted_code = \"import xarray as xr\\nimport numpy as np\\n\\nimport climpred  # forecast verification\";\n",
       "                var nbb_cells = Jupyter.notebook.get_cells();\n",
       "                for (var i = 0; i < nbb_cells.length; ++i) {\n",
       "                    if (nbb_cells[i].input_prompt_number == nbb_cell_id) {\n",
       "                        if (nbb_cells[i].get_text() == nbb_unformatted_code) {\n",
       "                             nbb_cells[i].set_text(nbb_formatted_code);\n",
       "                        }\n",
       "                        break;\n",
       "                    }\n",
       "                }\n",
       "            }, 500);\n",
       "            "
      ],
      "text/plain": [
       "<IPython.core.display.Javascript object>"
      ]
     },
     "metadata": {},
     "output_type": "display_data"
    }
   ],
   "source": [
    "import xarray as xr\n",
    "import numpy as np\n",
    "\n",
    "import climpred  # forecast verification"
   ]
  },
  {
   "cell_type": "code",
   "execution_count": 4,
   "id": "a6218c58-2402-4658-bfa3-c40bbf3dda95",
   "metadata": {},
   "outputs": [
    {
     "ename": "ModuleNotFoundError",
     "evalue": "No module named 'herbie'",
     "output_type": "error",
     "traceback": [
      "\u001b[0;31m---------------------------------------------------------------------------\u001b[0m",
      "\u001b[0;31mModuleNotFoundError\u001b[0m                       Traceback (most recent call last)",
      "\u001b[0;32m/tmp/ipykernel_2693/693555528.py\u001b[0m in \u001b[0;36m<module>\u001b[0;34m\u001b[0m\n\u001b[0;32m----> 1\u001b[0;31m \u001b[0;32mfrom\u001b[0m \u001b[0mherbie\u001b[0m \u001b[0;32mimport\u001b[0m \u001b[0mFastHerbie\u001b[0m\u001b[0;34m\u001b[0m\u001b[0;34m\u001b[0m\u001b[0m\n\u001b[0m\u001b[1;32m      2\u001b[0m \u001b[0;32mimport\u001b[0m \u001b[0mpandas\u001b[0m \u001b[0;32mas\u001b[0m \u001b[0mpd\u001b[0m\u001b[0;34m\u001b[0m\u001b[0;34m\u001b[0m\u001b[0m\n\u001b[1;32m      3\u001b[0m \u001b[0;34m\u001b[0m\u001b[0m\n\u001b[1;32m      4\u001b[0m \u001b[0;31m# Create a range of dates\u001b[0m\u001b[0;34m\u001b[0m\u001b[0;34m\u001b[0m\u001b[0;34m\u001b[0m\u001b[0m\n\u001b[1;32m      5\u001b[0m DATES = pd.date_range(\n",
      "\u001b[0;31mModuleNotFoundError\u001b[0m: No module named 'herbie'"
     ]
    },
    {
     "data": {
      "application/javascript": [
       "\n",
       "            setTimeout(function() {\n",
       "                var nbb_cell_id = 4;\n",
       "                var nbb_unformatted_code = \"from herbie import FastHerbie\\nimport pandas as pd\\n\\n# Create a range of dates\\nDATES = pd.date_range(\\n    start=\\\"2022-03-01 00:00\\\",\\n    periods=3,\\n    freq=\\\"1H\\\",\\n)\\n\\n# Create a range of forecast lead times\\nfxx = range(0, 3)\\n\\n# Make FastHerbie Object.\\nFH = FastHerbie(DATES, model=\\\"hrrr\\\", fxx=fxx)\\nFH\";\n",
       "                var nbb_formatted_code = \"from herbie import FastHerbie\\nimport pandas as pd\\n\\n# Create a range of dates\\nDATES = pd.date_range(\\n    start=\\\"2022-03-01 00:00\\\",\\n    periods=3,\\n    freq=\\\"1H\\\",\\n)\\n\\n# Create a range of forecast lead times\\nfxx = range(0, 3)\\n\\n# Make FastHerbie Object.\\nFH = FastHerbie(DATES, model=\\\"hrrr\\\", fxx=fxx)\\nFH\";\n",
       "                var nbb_cells = Jupyter.notebook.get_cells();\n",
       "                for (var i = 0; i < nbb_cells.length; ++i) {\n",
       "                    if (nbb_cells[i].input_prompt_number == nbb_cell_id) {\n",
       "                        if (nbb_cells[i].get_text() == nbb_unformatted_code) {\n",
       "                             nbb_cells[i].set_text(nbb_formatted_code);\n",
       "                        }\n",
       "                        break;\n",
       "                    }\n",
       "                }\n",
       "            }, 500);\n",
       "            "
      ],
      "text/plain": [
       "<IPython.core.display.Javascript object>"
      ]
     },
     "metadata": {},
     "output_type": "display_data"
    }
   ],
   "source": [
    "from herbie import FastHerbie\n",
    "import pandas as pd\n",
    "\n",
    "# Create a range of dates\n",
    "DATES = pd.date_range(\n",
    "    start=\"2022-03-01 00:00\",\n",
    "    periods=3,\n",
    "    freq=\"1H\",\n",
    ")\n",
    "\n",
    "# Create a range of forecast lead times\n",
    "fxx = range(0, 3)\n",
    "\n",
    "# Make FastHerbie Object.\n",
    "FH = FastHerbie(DATES, model=\"hrrr\", fxx=fxx)\n",
    "FH"
   ]
  },
  {
   "cell_type": "code",
   "execution_count": null,
   "id": "25ddae28-26c7-4950-8fad-db6cc83fcaea",
   "metadata": {},
   "outputs": [],
   "source": [
    "ds = FH.xarray(\"TMP:2 m\", remove_grib=False)\n",
    "ds"
   ]
  },
  {
   "cell_type": "markdown",
   "id": "molecular-chuck",
   "metadata": {},
   "source": [
    "## Forecast skill verification\n",
    "\n",
    "with {py:class}`.PerfectModelEnsemble` because we don't fetch ground truth observations, if observations are available use {py:class}`.HindcastEnsemble`"
   ]
  },
  {
   "cell_type": "code",
   "execution_count": null,
   "id": "ignored-prague",
   "metadata": {},
   "outputs": [],
   "source": [
    "hindcast = climpred.PerfectModelEnsemble(ds.drop_vars(\"valid_time\"))"
   ]
  },
  {
   "cell_type": "code",
   "execution_count": null,
   "id": "conceptual-richmond",
   "metadata": {},
   "outputs": [],
   "source": [
    "skill = hindcast.verify(\n",
    "    metric=\"crps\", comparison=\"m2o\", dim=[\"init\", \"member\"]\n",
    ")"
   ]
  },
  {
   "cell_type": "code",
   "execution_count": null,
   "id": "colored-luther",
   "metadata": {},
   "outputs": [],
   "source": [
    "# zooming into north america\n",
    "skill.sel(longitude=slice(200, 320), latitude=slice(70, 15)).t2m.plot(\n",
    "    col=\"lead\", col_wrap=4, robust=True, aspect=2.5\n",
    ")"
   ]
  }
 ],
 "metadata": {
  "kernelspec": {
   "display_name": "Python 3 (ipykernel)",
   "language": "python",
   "name": "python3"
  },
  "language_info": {
   "codemirror_mode": {
    "name": "ipython",
    "version": 3
   },
   "file_extension": ".py",
   "mimetype": "text/x-python",
   "name": "python",
   "nbconvert_exporter": "python",
   "pygments_lexer": "ipython3",
   "version": "3.7.12"
  }
 },
 "nbformat": 4,
 "nbformat_minor": 5
}
